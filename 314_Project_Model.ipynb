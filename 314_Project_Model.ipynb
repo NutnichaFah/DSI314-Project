{
  "nbformat": 4,
  "nbformat_minor": 0,
  "metadata": {
    "colab": {
      "provenance": []
    },
    "kernelspec": {
      "name": "python3",
      "display_name": "Python 3"
    },
    "language_info": {
      "name": "python"
    }
  },
  "cells": [
    {
      "cell_type": "markdown",
      "source": [
        "#Import Library and data"
      ],
      "metadata": {
        "id": "6HdnoJP97YY7"
      }
    },
    {
      "cell_type": "code",
      "execution_count": null,
      "metadata": {
        "id": "6lZM1lhUgac-"
      },
      "outputs": [],
      "source": [
        "#import Library\n",
        "import pandas as pd\n",
        "import numpy as np\n",
        "import matplotlib as plt\n",
        "import matplotlib.pyplot as plt\n",
        "import seaborn as sns\n",
        "\n",
        "#Random Forest Model\n",
        "from sklearn.ensemble import RandomForestClassifier"
      ]
    },
    {
      "cell_type": "code",
      "source": [
        "#import data from github\n",
        "\n",
        "#List_Company_train ชุดข้อมูลไว้สำหรับ train\n",
        "url_train = 'https://raw.githubusercontent.com/NutnichaFah/DSI314-Project-Group8/main/List_Company_train.csv'\n",
        "\n",
        "#List_company_test ชุดข้อมูลไว้สำหรับ test\n",
        "url_test = 'https://raw.githubusercontent.com/NutnichaFah/DSI314-Project-Group8/main/List_Company_test.csv'\n",
        "\n",
        "data = pd.read_csv(url_train)\n",
        "data_test = pd.read_csv(url_test)"
      ],
      "metadata": {
        "id": "Zb7JtKMjgdf5"
      },
      "execution_count": null,
      "outputs": []
    },
    {
      "cell_type": "markdown",
      "source": [
        "#1. Exploratory Data Analysis (EDA)"
      ],
      "metadata": {
        "id": "6sVUnbeJ7b_D"
      }
    },
    {
      "cell_type": "code",
      "source": [
        "data"
      ],
      "metadata": {
        "id": "F0wUv5Eg7h9z"
      },
      "execution_count": null,
      "outputs": []
    },
    {
      "cell_type": "code",
      "source": [
        "# ดูภาพรวมของข้อมูล\n",
        "data.info()"
      ],
      "metadata": {
        "id": "9p2jcSW-7h3h"
      },
      "execution_count": null,
      "outputs": []
    },
    {
      "cell_type": "code",
      "source": [
        "#ตรวจสอบจำนวน missing value\n",
        "null_cols_values = data.isnull().sum()\n",
        "null_datapoints = null_cols_values[null_cols_values>0].sum()\n",
        "\n",
        "print(null_cols_values)\n",
        "print(f\"sum of Missing Value = {null_datapoints}\")"
      ],
      "metadata": {
        "id": "7BEAPreR7hy3"
      },
      "execution_count": null,
      "outputs": []
    },
    {
      "cell_type": "code",
      "source": [
        "# ตรวจสอบค่า Unique\n",
        "data.nunique()"
      ],
      "metadata": {
        "id": "KTfD_kZ_7hrn"
      },
      "execution_count": null,
      "outputs": []
    },
    {
      "cell_type": "code",
      "source": [
        "#สร้างฟังก์ชัน เพื่อสร้างกราฟ\n",
        "def val_count_BarPlot(data=None, count_cols=None):\n",
        "  data_count = data[count_cols].value_counts()\n",
        "  fig, ax = plt.subplots(figsize=(10, 8))\n",
        "  pbar = ax.bar(data_count.index.astype(str),data_count.values)\n",
        "  ax.set_title(f\"{count_cols} values count\")\n",
        "\n",
        "def val_count_BarhPlot(data=None, count_cols=None):\n",
        "  data_count = data[count_cols].value_counts()\n",
        "  fig, ax = plt.subplots(figsize=(10, 8))\n",
        "  pbar = ax.barh(data_count.index.astype(str),data_count.values)\n",
        "  ax.set_title(f\"{count_cols} values count\")\n",
        "\n",
        "  plt.show()"
      ],
      "metadata": {
        "id": "yATypbuj8TOS"
      },
      "execution_count": null,
      "outputs": []
    },
    {
      "cell_type": "code",
      "source": [
        "#กราฟแท่งของคอลัมน์ has_domain\n",
        "val_count_BarPlot(data=data, count_cols='has_domain')"
      ],
      "metadata": {
        "id": "wOfO6eTV8TQ1"
      },
      "execution_count": null,
      "outputs": []
    },
    {
      "cell_type": "code",
      "source": [
        "data.has_domain.value_counts()"
      ],
      "metadata": {
        "id": "QW3XR6e1NGoH"
      },
      "execution_count": null,
      "outputs": []
    },
    {
      "cell_type": "code",
      "source": [
        "#กราฟแท่งของคอลัมน์ has_facebook\n",
        "val_count_BarPlot(data=data, count_cols='has_facebook')"
      ],
      "metadata": {
        "id": "sXF15y9K8ZMy"
      },
      "execution_count": null,
      "outputs": []
    },
    {
      "cell_type": "code",
      "source": [
        "data.has_facebook.value_counts()"
      ],
      "metadata": {
        "id": "pbEYo2sxNHdu"
      },
      "execution_count": null,
      "outputs": []
    },
    {
      "cell_type": "code",
      "source": [
        "#กราฟแท่งของคอลัมน์ has_instargram\n",
        "val_count_BarPlot(data=data, count_cols='has_instargram')"
      ],
      "metadata": {
        "id": "v4jB28VE8ZPW"
      },
      "execution_count": null,
      "outputs": []
    },
    {
      "cell_type": "code",
      "source": [
        "data.has_instargram.value_counts()"
      ],
      "metadata": {
        "id": "V13-EK62NJ5e"
      },
      "execution_count": null,
      "outputs": []
    },
    {
      "cell_type": "code",
      "source": [
        "#กราฟแท่งของคอลัมน์ country_code\n",
        "val_count_BarhPlot(data=data, count_cols='country_code')"
      ],
      "metadata": {
        "id": "meQWrBg-8c4u"
      },
      "execution_count": null,
      "outputs": []
    },
    {
      "cell_type": "code",
      "source": [
        "data.country_code.value_counts()"
      ],
      "metadata": {
        "id": "fd1HzwTqNOKk"
      },
      "execution_count": null,
      "outputs": []
    },
    {
      "cell_type": "markdown",
      "source": [
        "-------------------------"
      ],
      "metadata": {
        "id": "Ht4IS8Nc7ig5"
      }
    },
    {
      "cell_type": "markdown",
      "source": [
        "#2. Feature Engineering"
      ],
      "metadata": {
        "id": "Q1psJd7h7nDf"
      }
    },
    {
      "cell_type": "code",
      "source": [
        "#เติมค่าว่างในคอลัมน์ has_domain,has_instargram,has_facebook\n",
        "data['has_domain'] = data['has_domain'].fillna('no')\n",
        "data['has_instargram'] = data['has_instargram'].fillna('no') \n",
        "data['has_facebook'] = data['has_facebook'].fillna('no') "
      ],
      "metadata": {
        "id": "RURmBynyggQl"
      },
      "execution_count": null,
      "outputs": []
    },
    {
      "cell_type": "code",
      "source": [
        "#เติมค่าว่างในคอลัมน์ num_employee ด้วยค่า mode\n",
        "data['num_employee'] = data['num_employee'].fillna(data['num_employee'].mode()[0])"
      ],
      "metadata": {
        "id": "2ULPM-Y0gias"
      },
      "execution_count": null,
      "outputs": []
    },
    {
      "cell_type": "code",
      "source": [
        "#เติมค่าว่างในคอลัมน์ web_globalrank ด้วยค่า 0\n",
        "data['web_globalrank'] = data['web_globalrank'].fillna(0)"
      ],
      "metadata": {
        "id": "aMvw4dsQgj_J"
      },
      "execution_count": null,
      "outputs": []
    },
    {
      "cell_type": "code",
      "source": [
        "data"
      ],
      "metadata": {
        "id": "pYgmK1tEvlqc"
      },
      "execution_count": null,
      "outputs": []
    },
    {
      "cell_type": "code",
      "source": [
        "#ในข้อมูลมีประเทศที่ไม่ต้องการ คือ ประเทศที่มีรหัส 364,376\n",
        "\n",
        "#เรียกดูแถวที่มีประเทศที่มีรหัส 364\n",
        "data[data['country_code'] == 364]\n",
        "#ดรอปแถวที่มีประเทศที่มีรหัส 364\n",
        "data.drop(data.index[[122,123,124,125,126]], inplace=True)\n",
        "#ดรอปแถวที่มีประเทศที่มีรหัส 376\n",
        "data = data.drop(labels=[127,128,129,130,131,132,133,134,135,136,137], axis=0)\n",
        "\n",
        "#ดรอปคอลัมน์ที่ไม่ได้ใช้\n",
        "data.drop(columns = ['income ($M)','Company_Name','num_employee','incorporation_date','Period'],inplace = True)\n",
        "\n",
        "data"
      ],
      "metadata": {
        "id": "K5gfY6hcgmo8"
      },
      "execution_count": null,
      "outputs": []
    },
    {
      "cell_type": "code",
      "source": [
        "#Label encoding คอลัมน์ has_domain, has_instargram, has_facebook ของชุดข้อมูล data\n",
        "from sklearn import preprocessing\n",
        "\n",
        "label_encoder = preprocessing.LabelEncoder()\n",
        "\n",
        "data['has_domain']= label_encoder.fit_transform(data['has_domain'])\n",
        "data['has_instargram']= label_encoder.fit_transform(data['has_instargram'])\n",
        "data['has_facebook']= label_encoder.fit_transform(data['has_facebook'])\n",
        "data['Status']= label_encoder.fit_transform(data['Status'])\n",
        "\n",
        "data\n"
      ],
      "metadata": {
        "id": "T0uORACdg2Mv"
      },
      "execution_count": null,
      "outputs": []
    },
    {
      "cell_type": "markdown",
      "source": [
        "ทำ Feature Engineering กับชุดข้อมูล data_test"
      ],
      "metadata": {
        "id": "C4-bC5DC6Pln"
      }
    },
    {
      "cell_type": "code",
      "source": [
        "data_test"
      ],
      "metadata": {
        "id": "yBuIUE8hkzHr"
      },
      "execution_count": null,
      "outputs": []
    },
    {
      "cell_type": "code",
      "source": [
        "data_test['web_globalrank'] = data_test['web_globalrank'].fillna(0)"
      ],
      "metadata": {
        "id": "Gy9ZmAazlTiQ"
      },
      "execution_count": null,
      "outputs": []
    },
    {
      "cell_type": "code",
      "source": [
        "data_test.drop(columns = ['Company_Name'],inplace = True)"
      ],
      "metadata": {
        "id": "HONLRNW5lGZJ"
      },
      "execution_count": null,
      "outputs": []
    },
    {
      "cell_type": "code",
      "source": [
        "data_test"
      ],
      "metadata": {
        "id": "RRWVfFW2uF0J"
      },
      "execution_count": null,
      "outputs": []
    },
    {
      "cell_type": "code",
      "source": [
        "#Label encoding data_test\n",
        "from sklearn import preprocessing\n",
        "\n",
        "label_encoder = preprocessing.LabelEncoder()\n",
        "\n",
        "data_test['has_domain']= label_encoder.fit_transform(data_test['has_domain'])\n",
        "data_test['has_instargram']= label_encoder.fit_transform(data_test['has_instargram'])\n",
        "data_test['has_facebook']= label_encoder.fit_transform(data_test['has_facebook'])"
      ],
      "metadata": {
        "id": "tZQQ-8cIlC4W"
      },
      "execution_count": null,
      "outputs": []
    },
    {
      "cell_type": "code",
      "source": [
        "data_test"
      ],
      "metadata": {
        "id": "DB6QrQYrlMLk"
      },
      "execution_count": null,
      "outputs": []
    },
    {
      "cell_type": "markdown",
      "source": [
        "#3. Data Preparation"
      ],
      "metadata": {
        "id": "chPRZKmo7s5J"
      }
    },
    {
      "cell_type": "code",
      "source": [
        "# import library สำหรับการทำ model\n",
        "from sklearn.model_selection import train_test_split\n",
        "\n",
        "X = data.drop(columns = ['Status'], axis=1)\n",
        "y = data['Status']"
      ],
      "metadata": {
        "id": "IXnMt2rkg6Ei"
      },
      "execution_count": null,
      "outputs": []
    },
    {
      "cell_type": "code",
      "source": [
        "# แบ่งชุดข้อมูลเป็น train และ test\n",
        "x_train, x_test, y_train, y_test = train_test_split(X, y, test_size=0.3, random_state = 42)"
      ],
      "metadata": {
        "id": "Ff-yJ_U9idvz"
      },
      "execution_count": null,
      "outputs": []
    },
    {
      "cell_type": "markdown",
      "source": [
        "#4. Model"
      ],
      "metadata": {
        "id": "XgGmcJed720j"
      }
    },
    {
      "cell_type": "code",
      "source": [
        "# RandomForestClassifier\n",
        "from sklearn.ensemble import RandomForestClassifier\n",
        "\n",
        "rf_CLF = RandomForestClassifier(n_estimators=100, max_depth=8, random_state=120)\n",
        "\n",
        "# เทรนโมเดล\n",
        "rf_CLF.fit(x_train, y_train)"
      ],
      "metadata": {
        "id": "UN_78Kevij_l"
      },
      "execution_count": null,
      "outputs": []
    },
    {
      "cell_type": "code",
      "source": [
        "# ทำนายผล\n",
        "y_predict = rf_CLF.predict(x_test)\n",
        "y_predict"
      ],
      "metadata": {
        "id": "DGyQGBKsog4S"
      },
      "execution_count": null,
      "outputs": []
    },
    {
      "cell_type": "code",
      "source": [
        "# สร้างฟังก์ชันสำหรับการประเมินโมเดล\n",
        "from sklearn import metrics\n",
        "\n",
        "def modelEvaluation(Y_test=None, predictions=None):\n",
        "  accuracy = metrics.accuracy_score(Y_test, predictions)\n",
        "  precision = metrics.precision_score(Y_test, predictions)\n",
        "  recall = metrics.recall_score(Y_test, predictions)\n",
        "  f1 = metrics.f1_score(Y_test, predictions)\n",
        "\n",
        "  print(f\"Accuracy = {np.round(accuracy, 4)}\")\n",
        "  print(f\"Precision = {np.round(precision, 4)}\")\n",
        "  print(f\"recall = {np.round(recall, 4)}\")\n",
        "  print(f\"F1 = {np.round(f1, 4)}\")"
      ],
      "metadata": {
        "id": "gQZ8RH0p54u9"
      },
      "execution_count": null,
      "outputs": []
    },
    {
      "cell_type": "code",
      "source": [
        "modelEvaluation(Y_test=y_test, predictions=y_predict)"
      ],
      "metadata": {
        "id": "-oXRJkVdolpU"
      },
      "execution_count": null,
      "outputs": []
    },
    {
      "cell_type": "markdown",
      "source": [
        "นำโมเดลที่เราได้มาทำนายผล โดยใช้ชุดข้อมูล data_test"
      ],
      "metadata": {
        "id": "Y9lNCBSKkFuU"
      }
    },
    {
      "cell_type": "code",
      "source": [
        "satu_predicts = rf_CLF.predict(data_test)\n",
        "satu_predicts"
      ],
      "metadata": {
        "id": "tQuVlA7ZlXqY"
      },
      "execution_count": null,
      "outputs": []
    },
    {
      "cell_type": "markdown",
      "source": [
        "#Confusion Matrix"
      ],
      "metadata": {
        "id": "yfPuN4erNihV"
      }
    },
    {
      "cell_type": "code",
      "source": [
        "metrics.confusion_matrix(y_test, y_predict)"
      ],
      "metadata": {
        "id": "iJK-kHtPNggb"
      },
      "execution_count": null,
      "outputs": []
    },
    {
      "cell_type": "code",
      "source": [
        "print(metrics.classification_report(y_test, y_predict))"
      ],
      "metadata": {
        "id": "wfo9PB9zNm-l"
      },
      "execution_count": null,
      "outputs": []
    }
  ]
}